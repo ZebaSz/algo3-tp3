{
 "cells": [
  {
   "cell_type": "code",
   "execution_count": 1,
   "metadata": {
    "collapsed": true
   },
   "outputs": [],
   "source": [
    "import pandas as pd\n",
    "import seaborn as sns\n",
    "import matplotlib.pyplot as plt\n",
    "import matplotlib.ticker as ticker\n",
    "import random\n",
    "import numpy as np\n",
    "from scipy import stats"
   ]
  },
  {
   "cell_type": "code",
   "execution_count": 8,
   "metadata": {
    "collapsed": true
   },
   "outputs": [],
   "source": [
    "n = 'n'\n",
    "m = 'm'\n",
    "p = 'p'\n",
    "it = 'it'\n",
    "diff = 'diff'\n",
    "calidad = 'Diferencia vs solución exacta'\n",
    "\n",
    "error_rate = 'Porcentaje de error: {0:2.2f}%'\n",
    "\n",
    "blue='#4C72B0'\n",
    "green='#55A868'\n",
    "red='#C44E52'"
   ]
  },
  {
   "cell_type": "code",
   "execution_count": 3,
   "metadata": {
    "collapsed": true
   },
   "outputs": [],
   "source": [
    "greedy = pd.read_csv('accuracy-greedy.csv')\n",
    "local = pd.read_csv('accuracy-local.csv')\n",
    "grasp = pd.read_csv('accuracy-grasp.csv')"
   ]
  },
  {
   "cell_type": "code",
   "execution_count": 108,
   "metadata": {
    "scrolled": false
   },
   "outputs": [
    {
     "data": {
      "image/png": "[encoded data removed]",
      "text/plain": [
       "<matplotlib.figure.Figure at 0x7f890ef22780>"
      ]
     },
     "metadata": {},
     "output_type": "display_data"
    },
    {
     "name": "stdout",
     "output_type": "stream",
     "text": [
      "Porcentaje de error: 30.98%\n"
     ]
    },
    {
     "data": {
      "text/html": [
       "<div>\n",
       "<style>\n",
       "    .dataframe thead tr:only-child th {\n",
       "        text-align: right;\n",
       "    }\n",
       "\n",
       "    .dataframe thead th {\n",
       "        text-align: left;\n",
       "    }\n",
       "\n",
       "    .dataframe tbody tr th {\n",
       "        vertical-align: top;\n",
       "    }\n",
       "</style>\n",
       "<table border=\"1\" class=\"dataframe\">\n",
       "  <thead>\n",
       "    <tr style=\"text-align: right;\">\n",
       "      <th></th>\n",
       "      <th>n</th>\n",
       "      <th>m</th>\n",
       "      <th>diff</th>\n",
       "    </tr>\n",
       "  </thead>\n",
       "  <tbody>\n",
       "    <tr>\n",
       "      <th>max</th>\n",
       "      <td>40.000000</td>\n",
       "      <td>390.000000</td>\n",
       "      <td>27.000000</td>\n",
       "    </tr>\n",
       "    <tr>\n",
       "      <th>mean</th>\n",
       "      <td>30.449524</td>\n",
       "      <td>119.549543</td>\n",
       "      <td>1.229147</td>\n",
       "    </tr>\n",
       "    <tr>\n",
       "      <th>std</th>\n",
       "      <td>7.789745</td>\n",
       "      <td>92.072989</td>\n",
       "      <td>2.669999</td>\n",
       "    </tr>\n",
       "  </tbody>\n",
       "</table>\n",
       "</div>"
      ],
      "text/plain": [
       "              n           m       diff\n",
       "max   40.000000  390.000000  27.000000\n",
       "mean  30.449524  119.549543   1.229147\n",
       "std    7.789745   92.072989   2.669999"
      ]
     },
     "execution_count": 108,
     "metadata": {},
     "output_type": "execute_result"
    }
   ],
   "source": [
    "g = sns.countplot(x=diff, data=greedy)\n",
    "g.set_xlabel(calidad)\n",
    "g.set_ylabel(\"Cantidad de tests\")\n",
    "plt.show()\n",
    "\n",
    "greedy_count = greedy.groupby([diff])[n].agg(['count']).reset_index()\n",
    "greedy_sum = greedy_count['count'].agg(['sum']).get(0)\n",
    "\n",
    "percent = (greedy_sum - greedy_count['count'][0])/greedy_sum\n",
    "print(error_rate.format(percent*100))\n",
    "\n",
    "greedy.agg(['max', 'mean', np.std])"
   ]
  },
  {
   "cell_type": "code",
   "execution_count": 107,
   "metadata": {},
   "outputs": [
    {
     "data": {
      "image/png": "[encoded data removed]",
      "text/plain": [
       "<matplotlib.figure.Figure at 0x7f890ef8b400>"
      ]
     },
     "metadata": {},
     "output_type": "display_data"
    },
    {
     "name": "stdout",
     "output_type": "stream",
     "text": [
      "Porcentaje de error: 19.97%\n"
     ]
    },
    {
     "data": {
      "text/html": [
       "<div>\n",
       "<style>\n",
       "    .dataframe thead tr:only-child th {\n",
       "        text-align: right;\n",
       "    }\n",
       "\n",
       "    .dataframe thead th {\n",
       "        text-align: left;\n",
       "    }\n",
       "\n",
       "    .dataframe tbody tr th {\n",
       "        vertical-align: top;\n",
       "    }\n",
       "</style>\n",
       "<table border=\"1\" class=\"dataframe\">\n",
       "  <thead>\n",
       "    <tr style=\"text-align: right;\">\n",
       "      <th></th>\n",
       "      <th>n</th>\n",
       "      <th>m</th>\n",
       "      <th>diff</th>\n",
       "    </tr>\n",
       "  </thead>\n",
       "  <tbody>\n",
       "    <tr>\n",
       "      <th>max</th>\n",
       "      <td>40.000000</td>\n",
       "      <td>390.000000</td>\n",
       "      <td>20.000000</td>\n",
       "    </tr>\n",
       "    <tr>\n",
       "      <th>mean</th>\n",
       "      <td>30.449524</td>\n",
       "      <td>119.549543</td>\n",
       "      <td>0.615040</td>\n",
       "    </tr>\n",
       "    <tr>\n",
       "      <th>std</th>\n",
       "      <td>7.789745</td>\n",
       "      <td>92.072989</td>\n",
       "      <td>1.697704</td>\n",
       "    </tr>\n",
       "  </tbody>\n",
       "</table>\n",
       "</div>"
      ],
      "text/plain": [
       "              n           m       diff\n",
       "max   40.000000  390.000000  20.000000\n",
       "mean  30.449524  119.549543   0.615040\n",
       "std    7.789745   92.072989   1.697704"
      ]
     },
     "execution_count": 107,
     "metadata": {},
     "output_type": "execute_result"
    }
   ],
   "source": [
    "g = sns.countplot(x=diff, data=local)\n",
    "g.set_xlabel(calidad)\n",
    "g.set_ylabel(\"Cantidad de tests\")\n",
    "plt.show()\n",
    "\n",
    "local_count = local.groupby([diff])[n].agg(['count']).reset_index()\n",
    "local_sum = local_count['count'].agg(['sum']).get(0)\n",
    "\n",
    "percent = (local_sum - local_count['count'][0])/local_sum\n",
    "print(error_rate.format(percent*100))\n",
    "\n",
    "local.agg(['max', 'mean', np.std])"
   ]
  },
  {
   "cell_type": "code",
   "execution_count": 109,
   "metadata": {
    "scrolled": false
   },
   "outputs": [
    {
     "data": {
      "image/png": "[encoded data removed]",
      "text/plain": [
       "<matplotlib.figure.Figure at 0x7f890e50f898>"
      ]
     },
     "metadata": {},
     "output_type": "display_data"
    }
   ],
   "source": [
    "test = grasp[(grasp.p == 0.6) & (grasp.it == 15)]\n",
    "g = sns.countplot(x=diff, data=test)\n",
    "g.set_xlabel(calidad)\n",
    "g.set_ylabel(\"Cantidad de tests\")\n",
    "plt.show()"
   ]
  },
  {
   "cell_type": "code",
   "execution_count": 104,
   "metadata": {},
   "outputs": [
    {
     "data": {
      "image/png": "[encoded data removed]",
      "text/plain": [
       "<matplotlib.figure.Figure at 0x7f890df206a0>"
      ]
     },
     "metadata": {},
     "output_type": "display_data"
    }
   ],
   "source": [
    "grasp_test = grasp[((grasp.p == 0.2) | (grasp.p == 0.6) | (grasp.p == 1))\n",
    "                    & ((grasp.it == 1) | (grasp.it == 7) | (grasp.it == 15))]\n",
    "\n",
    "g = sns.factorplot(\n",
    "    x=diff, data=grasp_test,\n",
    "    col=p, row=it,\n",
    "    kind=\"count\",\n",
    "    facet_kws=dict()\n",
    ")\n",
    "\n",
    "g.set(xticks=[])\n",
    "g.set_axis_labels(calidad, \"Cantidad de tests\")\n",
    "plt.show()"
   ]
  },
  {
   "cell_type": "code",
   "execution_count": 113,
   "metadata": {
    "scrolled": true
   },
   "outputs": [
    {
     "data": {
      "text/html": [
       "<div>\n",
       "<style>\n",
       "    .dataframe thead tr:only-child th {\n",
       "        text-align: right;\n",
       "    }\n",
       "\n",
       "    .dataframe thead th {\n",
       "        text-align: left;\n",
       "    }\n",
       "\n",
       "    .dataframe tbody tr th {\n",
       "        vertical-align: top;\n",
       "    }\n",
       "</style>\n",
       "<table border=\"1\" class=\"dataframe\">\n",
       "  <thead>\n",
       "    <tr>\n",
       "      <th></th>\n",
       "      <th>p</th>\n",
       "      <th>it</th>\n",
       "      <th colspan=\"3\" halign=\"left\">diff</th>\n",
       "      <th>error</th>\n",
       "    </tr>\n",
       "    <tr>\n",
       "      <th></th>\n",
       "      <th></th>\n",
       "      <th></th>\n",
       "      <th>max</th>\n",
       "      <th>mean</th>\n",
       "      <th>std</th>\n",
       "      <th></th>\n",
       "    </tr>\n",
       "  </thead>\n",
       "  <tbody>\n",
       "    <tr>\n",
       "      <th>0</th>\n",
       "      <td>0.2</td>\n",
       "      <td>1</td>\n",
       "      <td>39</td>\n",
       "      <td>3.046650</td>\n",
       "      <td>4.774386</td>\n",
       "      <td>0.531069</td>\n",
       "    </tr>\n",
       "    <tr>\n",
       "      <th>1</th>\n",
       "      <td>0.2</td>\n",
       "      <td>7</td>\n",
       "      <td>27</td>\n",
       "      <td>0.617279</td>\n",
       "      <td>1.740223</td>\n",
       "      <td>0.200597</td>\n",
       "    </tr>\n",
       "    <tr>\n",
       "      <th>2</th>\n",
       "      <td>0.2</td>\n",
       "      <td>15</td>\n",
       "      <td>16</td>\n",
       "      <td>0.391491</td>\n",
       "      <td>1.299830</td>\n",
       "      <td>0.143310</td>\n",
       "    </tr>\n",
       "    <tr>\n",
       "      <th>3</th>\n",
       "      <td>0.6</td>\n",
       "      <td>1</td>\n",
       "      <td>32</td>\n",
       "      <td>3.046091</td>\n",
       "      <td>4.679572</td>\n",
       "      <td>0.540213</td>\n",
       "    </tr>\n",
       "    <tr>\n",
       "      <th>4</th>\n",
       "      <td>0.6</td>\n",
       "      <td>7</td>\n",
       "      <td>16</td>\n",
       "      <td>0.256764</td>\n",
       "      <td>1.014885</td>\n",
       "      <td>0.103377</td>\n",
       "    </tr>\n",
       "    <tr>\n",
       "      <th>5</th>\n",
       "      <td>0.6</td>\n",
       "      <td>15</td>\n",
       "      <td>9</td>\n",
       "      <td>0.087330</td>\n",
       "      <td>0.528601</td>\n",
       "      <td>0.042172</td>\n",
       "    </tr>\n",
       "    <tr>\n",
       "      <th>6</th>\n",
       "      <td>1.0</td>\n",
       "      <td>1</td>\n",
       "      <td>46</td>\n",
       "      <td>3.003359</td>\n",
       "      <td>4.645715</td>\n",
       "      <td>0.541519</td>\n",
       "    </tr>\n",
       "    <tr>\n",
       "      <th>7</th>\n",
       "      <td>1.0</td>\n",
       "      <td>7</td>\n",
       "      <td>12</td>\n",
       "      <td>0.212726</td>\n",
       "      <td>0.875136</td>\n",
       "      <td>0.093114</td>\n",
       "    </tr>\n",
       "    <tr>\n",
       "      <th>8</th>\n",
       "      <td>1.0</td>\n",
       "      <td>15</td>\n",
       "      <td>9</td>\n",
       "      <td>0.052435</td>\n",
       "      <td>0.432504</td>\n",
       "      <td>0.024072</td>\n",
       "    </tr>\n",
       "  </tbody>\n",
       "</table>\n",
       "</div>"
      ],
      "text/plain": [
       "     p  it diff                         error\n",
       "            max      mean       std          \n",
       "0  0.2   1   39  3.046650  4.774386  0.531069\n",
       "1  0.2   7   27  0.617279  1.740223  0.200597\n",
       "2  0.2  15   16  0.391491  1.299830  0.143310\n",
       "3  0.6   1   32  3.046091  4.679572  0.540213\n",
       "4  0.6   7   16  0.256764  1.014885  0.103377\n",
       "5  0.6  15    9  0.087330  0.528601  0.042172\n",
       "6  1.0   1   46  3.003359  4.645715  0.541519\n",
       "7  1.0   7   12  0.212726  0.875136  0.093114\n",
       "8  1.0  15    9  0.052435  0.432504  0.024072"
      ]
     },
     "execution_count": 113,
     "metadata": {},
     "output_type": "execute_result"
    }
   ],
   "source": [
    "grasp_test = grasp[((grasp.p == 0.2) | (grasp.p == 0.6) | (grasp.p == 1))\n",
    "                    & ((grasp.it == 1) | (grasp.it == 7) | (grasp.it == 15))]\n",
    "\n",
    "grasp_test = grasp_test.drop(n,1).drop(m,1)\n",
    "graspCopy = grasp_test.copy()\n",
    "graspCopy.columns = [p,it,'dif']\n",
    "\n",
    "grasp_test = grasp_test.groupby([p,it]).agg(['max', 'mean', np.std]).reset_index()\n",
    "grasp_test = grasp_test.assign(error=1)\n",
    "\n",
    "for ps in [0.2,0.6,1]:\n",
    "    for its in [1,7,15]:\n",
    "        count, _ = graspCopy[(graspCopy.p == ps) & (graspCopy.it == its)].shape\n",
    "        errcount, _ = graspCopy[(graspCopy.p == ps) & (graspCopy.it == its) & (graspCopy.dif > 0)].shape\n",
    "        grasp_test.loc[(grasp_test.p == ps) & (grasp_test.it == its), 'error'] = errcount/count\n",
    "grasp_test"
   ]
  },
  {
   "cell_type": "code",
   "execution_count": 110,
   "metadata": {},
   "outputs": [
    {
     "data": {
      "image/png": "[encoded data removed]",
      "text/plain": [
       "<matplotlib.figure.Figure at 0x7f890f2ec940>"
      ]
     },
     "metadata": {},
     "output_type": "display_data"
    },
    {
     "name": "stdout",
     "output_type": "stream",
     "text": [
      "Porcentaje de error: 1.04%\n",
      "56\n"
     ]
    },
    {
     "data": {
      "text/html": [
       "<div>\n",
       "<style>\n",
       "    .dataframe thead tr:only-child th {\n",
       "        text-align: right;\n",
       "    }\n",
       "\n",
       "    .dataframe thead th {\n",
       "        text-align: left;\n",
       "    }\n",
       "\n",
       "    .dataframe tbody tr th {\n",
       "        vertical-align: top;\n",
       "    }\n",
       "</style>\n",
       "<table border=\"1\" class=\"dataframe\">\n",
       "  <thead>\n",
       "    <tr style=\"text-align: right;\">\n",
       "      <th></th>\n",
       "      <th>n</th>\n",
       "      <th>m</th>\n",
       "      <th>p</th>\n",
       "      <th>it</th>\n",
       "      <th>diff</th>\n",
       "    </tr>\n",
       "  </thead>\n",
       "  <tbody>\n",
       "    <tr>\n",
       "      <th>max</th>\n",
       "      <td>40.000000</td>\n",
       "      <td>390.000000</td>\n",
       "      <td>0.6</td>\n",
       "      <td>50.0</td>\n",
       "      <td>7.000000</td>\n",
       "    </tr>\n",
       "    <tr>\n",
       "      <th>mean</th>\n",
       "      <td>30.449524</td>\n",
       "      <td>119.549543</td>\n",
       "      <td>0.6</td>\n",
       "      <td>50.0</td>\n",
       "      <td>0.016608</td>\n",
       "    </tr>\n",
       "    <tr>\n",
       "      <th>std</th>\n",
       "      <td>7.789745</td>\n",
       "      <td>92.072989</td>\n",
       "      <td>0.0</td>\n",
       "      <td>0.0</td>\n",
       "      <td>0.189064</td>\n",
       "    </tr>\n",
       "  </tbody>\n",
       "</table>\n",
       "</div>"
      ],
      "text/plain": [
       "              n           m    p    it      diff\n",
       "max   40.000000  390.000000  0.6  50.0  7.000000\n",
       "mean  30.449524  119.549543  0.6  50.0  0.016608\n",
       "std    7.789745   92.072989  0.0   0.0  0.189064"
      ]
     },
     "execution_count": 110,
     "metadata": {},
     "output_type": "execute_result"
    }
   ],
   "source": [
    "grasp50 = pd.read_csv('accuracy-grasp50.csv')\n",
    "\n",
    "g = sns.countplot(x=diff, data=grasp50)\n",
    "g.set_xlabel(calidad)\n",
    "g.set_ylabel(\"Cantidad de tests\")\n",
    "plt.show()\n",
    "\n",
    "grasp_count = grasp50.groupby([diff])[n].agg(['count']).reset_index()\n",
    "grasp_sum = grasp_count['count'].agg(['sum']).get(0)\n",
    "\n",
    "percent = (grasp_sum - grasp_count['count'][0])/grasp_sum\n",
    "print(error_rate.format(percent*100))\n",
    "print(grasp_sum - grasp_count['count'][0])\n",
    "\n",
    "grasp50.agg(['max', 'mean', np.std])"
   ]
  },
  {
   "cell_type": "code",
   "execution_count": null,
   "metadata": {
    "collapsed": true
   },
   "outputs": [],
   "source": []
  }
 ],
 "metadata": {
  "kernelspec": {
   "display_name": "Python 3",
   "language": "python",
   "name": "python3"
  },
  "language_info": {
   "codemirror_mode": {
    "name": "ipython",
    "version": 3
   },
   "file_extension": ".py",
   "mimetype": "text/x-python",
   "name": "python",
   "nbconvert_exporter": "python",
   "pygments_lexer": "ipython3",
   "version": "3.5.3"
  }
 },
 "nbformat": 4,
 "nbformat_minor": 2
}
