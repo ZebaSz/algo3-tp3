{
 "cells": [
  {
   "cell_type": "code",
   "execution_count": 2,
   "metadata": {
    "collapsed": true
   },
   "outputs": [],
   "source": [
    "import pandas as pd\n",
    "import seaborn as sns\n",
    "import matplotlib.pyplot as plt\n",
    "import matplotlib.ticker as ticker\n",
    "import random\n",
    "import numpy as np\n",
    "from scipy import stats"
   ]
  },
  {
   "cell_type": "code",
   "execution_count": 3,
   "metadata": {
    "collapsed": true
   },
   "outputs": [],
   "source": [
    "tiempo = 'Tiempo de ejecución (en nanosegundos)'\n",
    "n = 'n'\n",
    "m = 'm'\n",
    "p = 'p'\n",
    "ns = 'ns'\n",
    "it = 'it'\n",
    "diff = 'diff'\n",
    "calidad = 'Diferencia vs solución exacta'\n",
    "\n",
    "error_rate = 'Porcentaje de error: {0:2.2f}%'\n",
    "\n",
    "blue='#4C72B0'\n",
    "green='#55A868'\n",
    "red='#C44E52'\n",
    "\n",
    "pd.set_option('display.float_format', lambda x: '%.3f' % x)"
   ]
  },
  {
   "cell_type": "code",
   "execution_count": 4,
   "metadata": {},
   "outputs": [],
   "source": [
    "greedy = pd.read_csv('accuracy-greedy.csv')\n",
    "greedy = greedy.groupby([n,m,diff]).min().reset_index()\n",
    "local = pd.read_csv('accuracy-local.csv')\n",
    "local = local.groupby([n,m,diff]).min().reset_index()\n",
    "grasp = pd.read_csv('accuracy-grasp.csv')\n",
    "grasp = grasp.groupby([n,m,it,p,diff]).min().reset_index()\n",
    "grasp = grasp.groupby([n,m,it,p]).max().reset_index()"
   ]
  },
  {
   "cell_type": "code",
   "execution_count": 5,
   "metadata": {
    "scrolled": false
   },
   "outputs": [
    {
     "data": {
      "image/png": "[encoded data removed]",
      "text/plain": [
       "<matplotlib.figure.Figure at 0x7ff08f7c88d0>"
      ]
     },
     "metadata": {},
     "output_type": "display_data"
    },
    {
     "name": "stdout",
     "output_type": "stream",
     "text": [
      "Porcentaje de error: 30.83%\n"
     ]
    },
    {
     "data": {
      "text/html": [
       "<div>\n",
       "<style>\n",
       "    .dataframe thead tr:only-child th {\n",
       "        text-align: right;\n",
       "    }\n",
       "\n",
       "    .dataframe thead th {\n",
       "        text-align: left;\n",
       "    }\n",
       "\n",
       "    .dataframe tbody tr th {\n",
       "        vertical-align: top;\n",
       "    }\n",
       "</style>\n",
       "<table border=\"1\" class=\"dataframe\">\n",
       "  <thead>\n",
       "    <tr style=\"text-align: right;\">\n",
       "      <th></th>\n",
       "      <th>n</th>\n",
       "      <th>m</th>\n",
       "      <th>diff</th>\n",
       "      <th>ns</th>\n",
       "    </tr>\n",
       "  </thead>\n",
       "  <tbody>\n",
       "    <tr>\n",
       "      <th>max</th>\n",
       "      <td>40.000</td>\n",
       "      <td>390.000</td>\n",
       "      <td>24.000</td>\n",
       "      <td>31079.000</td>\n",
       "    </tr>\n",
       "    <tr>\n",
       "      <th>mean</th>\n",
       "      <td>30.450</td>\n",
       "      <td>119.550</td>\n",
       "      <td>1.185</td>\n",
       "      <td>10122.036</td>\n",
       "    </tr>\n",
       "    <tr>\n",
       "      <th>std</th>\n",
       "      <td>7.790</td>\n",
       "      <td>92.073</td>\n",
       "      <td>2.517</td>\n",
       "      <td>6429.430</td>\n",
       "    </tr>\n",
       "  </tbody>\n",
       "</table>\n",
       "</div>"
      ],
      "text/plain": [
       "          n       m   diff        ns\n",
       "max  40.000 390.000 24.000 31079.000\n",
       "mean 30.450 119.550  1.185 10122.036\n",
       "std   7.790  92.073  2.517  6429.430"
      ]
     },
     "execution_count": 5,
     "metadata": {},
     "output_type": "execute_result"
    }
   ],
   "source": [
    "g = sns.countplot(x=diff, data=greedy)\n",
    "g.set_xlabel(calidad)\n",
    "g.set_ylabel(\"Cantidad de tests\")\n",
    "plt.show()\n",
    "\n",
    "greedy_count = greedy.groupby([diff])[n].agg(['count']).reset_index()\n",
    "greedy_sum = greedy_count['count'].agg(['sum']).get(0)\n",
    "\n",
    "percent = (greedy_sum - greedy_count['count'][0])/greedy_sum\n",
    "print(error_rate.format(percent*100))\n",
    "\n",
    "greedy.agg(['max', 'mean', np.std])"
   ]
  },
  {
   "cell_type": "code",
   "execution_count": 6,
   "metadata": {},
   "outputs": [
    {
     "data": {
      "image/png": "[encoded data removed]",
      "text/plain": [
       "<matplotlib.figure.Figure at 0x7ff08f6e5ac8>"
      ]
     },
     "metadata": {},
     "output_type": "display_data"
    },
    {
     "name": "stdout",
     "output_type": "stream",
     "text": [
      "Porcentaje de error: 20.21%\n"
     ]
    },
    {
     "data": {
      "text/html": [
       "<div>\n",
       "<style>\n",
       "    .dataframe thead tr:only-child th {\n",
       "        text-align: right;\n",
       "    }\n",
       "\n",
       "    .dataframe thead th {\n",
       "        text-align: left;\n",
       "    }\n",
       "\n",
       "    .dataframe tbody tr th {\n",
       "        vertical-align: top;\n",
       "    }\n",
       "</style>\n",
       "<table border=\"1\" class=\"dataframe\">\n",
       "  <thead>\n",
       "    <tr style=\"text-align: right;\">\n",
       "      <th></th>\n",
       "      <th>n</th>\n",
       "      <th>m</th>\n",
       "      <th>diff</th>\n",
       "      <th>ns</th>\n",
       "    </tr>\n",
       "  </thead>\n",
       "  <tbody>\n",
       "    <tr>\n",
       "      <th>max</th>\n",
       "      <td>40.000</td>\n",
       "      <td>390.000</td>\n",
       "      <td>15.000</td>\n",
       "      <td>1886955.000</td>\n",
       "    </tr>\n",
       "    <tr>\n",
       "      <th>mean</th>\n",
       "      <td>30.450</td>\n",
       "      <td>119.550</td>\n",
       "      <td>0.587</td>\n",
       "      <td>189041.690</td>\n",
       "    </tr>\n",
       "    <tr>\n",
       "      <th>std</th>\n",
       "      <td>7.790</td>\n",
       "      <td>92.073</td>\n",
       "      <td>1.560</td>\n",
       "      <td>202448.425</td>\n",
       "    </tr>\n",
       "  </tbody>\n",
       "</table>\n",
       "</div>"
      ],
      "text/plain": [
       "          n       m   diff          ns\n",
       "max  40.000 390.000 15.000 1886955.000\n",
       "mean 30.450 119.550  0.587  189041.690\n",
       "std   7.790  92.073  1.560  202448.425"
      ]
     },
     "execution_count": 6,
     "metadata": {},
     "output_type": "execute_result"
    }
   ],
   "source": [
    "g = sns.countplot(x=diff, data=local)\n",
    "g.set_xlabel(calidad)\n",
    "g.set_ylabel(\"Cantidad de tests\")\n",
    "plt.show()\n",
    "\n",
    "local_count = local.groupby([diff])[n].agg(['count']).reset_index()\n",
    "local_sum = local_count['count'].agg(['sum']).get(0)\n",
    "\n",
    "percent = (local_sum - local_count['count'][0])/local_sum\n",
    "print(error_rate.format(percent*100))\n",
    "\n",
    "local.agg(['max', 'mean', np.std])"
   ]
  },
  {
   "cell_type": "code",
   "execution_count": 7,
   "metadata": {
    "scrolled": false
   },
   "outputs": [
    {
     "data": {
      "image/png": "[encoded data removed]",
      "text/plain": [
       "<matplotlib.figure.Figure at 0x7ff08f7a55c0>"
      ]
     },
     "metadata": {},
     "output_type": "display_data"
    }
   ],
   "source": [
    "test = grasp[(grasp.p == 0.6) & (grasp.it == 15)]\n",
    "g = sns.countplot(x=diff, data=test)\n",
    "g.set_xlabel(calidad)\n",
    "g.set_ylabel(\"Cantidad de tests\")\n",
    "plt.show()"
   ]
  },
  {
   "cell_type": "code",
   "execution_count": 8,
   "metadata": {},
   "outputs": [
    {
     "data": {
      "image/png": "[encoded data removed]",
      "text/plain": [
       "<matplotlib.figure.Figure at 0x7ff08f634048>"
      ]
     },
     "metadata": {},
     "output_type": "display_data"
    }
   ],
   "source": [
    "grasp_test = grasp[((grasp.p == 0.2) | (grasp.p == 0.6) | (grasp.p == 1))\n",
    "                    & ((grasp.it == 1) | (grasp.it == 7) | (grasp.it == 15))]\n",
    "\n",
    "g = sns.factorplot(\n",
    "    x=diff, data=grasp_test,\n",
    "    col=p, row=it,\n",
    "    kind=\"count\"\n",
    ")\n",
    "\n",
    "g.set(xticks=[])\n",
    "g.set_axis_labels(calidad, \"Cantidad de tests\")\n",
    "plt.show()"
   ]
  },
  {
   "cell_type": "code",
   "execution_count": 9,
   "metadata": {
    "scrolled": false
   },
   "outputs": [
    {
     "data": {
      "text/html": [
       "<div>\n",
       "<style>\n",
       "    .dataframe thead tr:only-child th {\n",
       "        text-align: right;\n",
       "    }\n",
       "\n",
       "    .dataframe thead th {\n",
       "        text-align: left;\n",
       "    }\n",
       "\n",
       "    .dataframe tbody tr th {\n",
       "        vertical-align: top;\n",
       "    }\n",
       "</style>\n",
       "<table border=\"1\" class=\"dataframe\">\n",
       "  <thead>\n",
       "    <tr>\n",
       "      <th></th>\n",
       "      <th>p</th>\n",
       "      <th>it</th>\n",
       "      <th colspan=\"3\" halign=\"left\">diff</th>\n",
       "      <th colspan=\"3\" halign=\"left\">ns</th>\n",
       "      <th>error</th>\n",
       "    </tr>\n",
       "    <tr>\n",
       "      <th></th>\n",
       "      <th></th>\n",
       "      <th></th>\n",
       "      <th>max</th>\n",
       "      <th>mean</th>\n",
       "      <th>std</th>\n",
       "      <th>max</th>\n",
       "      <th>mean</th>\n",
       "      <th>std</th>\n",
       "      <th></th>\n",
       "    </tr>\n",
       "  </thead>\n",
       "  <tbody>\n",
       "    <tr>\n",
       "      <th>0</th>\n",
       "      <td>0.200</td>\n",
       "      <td>1</td>\n",
       "      <td>48</td>\n",
       "      <td>7.134</td>\n",
       "      <td>6.694</td>\n",
       "      <td>3305564</td>\n",
       "      <td>384638.608</td>\n",
       "      <td>414931.701</td>\n",
       "      <td>0.865</td>\n",
       "    </tr>\n",
       "    <tr>\n",
       "      <th>1</th>\n",
       "      <td>0.200</td>\n",
       "      <td>7</td>\n",
       "      <td>27</td>\n",
       "      <td>0.696</td>\n",
       "      <td>1.939</td>\n",
       "      <td>19667204</td>\n",
       "      <td>2351098.390</td>\n",
       "      <td>2381269.254</td>\n",
       "      <td>0.210</td>\n",
       "    </tr>\n",
       "    <tr>\n",
       "      <th>2</th>\n",
       "      <td>0.200</td>\n",
       "      <td>15</td>\n",
       "      <td>18</td>\n",
       "      <td>0.530</td>\n",
       "      <td>1.598</td>\n",
       "      <td>41406710</td>\n",
       "      <td>5021068.397</td>\n",
       "      <td>5101869.770</td>\n",
       "      <td>0.175</td>\n",
       "    </tr>\n",
       "    <tr>\n",
       "      <th>3</th>\n",
       "      <td>0.600</td>\n",
       "      <td>1</td>\n",
       "      <td>59</td>\n",
       "      <td>9.687</td>\n",
       "      <td>7.898</td>\n",
       "      <td>3357665</td>\n",
       "      <td>346049.533</td>\n",
       "      <td>365679.615</td>\n",
       "      <td>0.934</td>\n",
       "    </tr>\n",
       "    <tr>\n",
       "      <th>4</th>\n",
       "      <td>0.600</td>\n",
       "      <td>7</td>\n",
       "      <td>15</td>\n",
       "      <td>0.307</td>\n",
       "      <td>1.133</td>\n",
       "      <td>17384532</td>\n",
       "      <td>2339655.480</td>\n",
       "      <td>2280199.303</td>\n",
       "      <td>0.118</td>\n",
       "    </tr>\n",
       "    <tr>\n",
       "      <th>5</th>\n",
       "      <td>0.600</td>\n",
       "      <td>15</td>\n",
       "      <td>9</td>\n",
       "      <td>0.097</td>\n",
       "      <td>0.562</td>\n",
       "      <td>34233385</td>\n",
       "      <td>5009071.496</td>\n",
       "      <td>4885519.631</td>\n",
       "      <td>0.047</td>\n",
       "    </tr>\n",
       "    <tr>\n",
       "      <th>6</th>\n",
       "      <td>1.000</td>\n",
       "      <td>1</td>\n",
       "      <td>60</td>\n",
       "      <td>10.747</td>\n",
       "      <td>8.241</td>\n",
       "      <td>2743346</td>\n",
       "      <td>315578.335</td>\n",
       "      <td>333585.443</td>\n",
       "      <td>0.951</td>\n",
       "    </tr>\n",
       "    <tr>\n",
       "      <th>7</th>\n",
       "      <td>1.000</td>\n",
       "      <td>7</td>\n",
       "      <td>13</td>\n",
       "      <td>0.227</td>\n",
       "      <td>0.952</td>\n",
       "      <td>15183992</td>\n",
       "      <td>2350323.404</td>\n",
       "      <td>2290930.016</td>\n",
       "      <td>0.093</td>\n",
       "    </tr>\n",
       "    <tr>\n",
       "      <th>8</th>\n",
       "      <td>1.000</td>\n",
       "      <td>15</td>\n",
       "      <td>9</td>\n",
       "      <td>0.054</td>\n",
       "      <td>0.401</td>\n",
       "      <td>31964890</td>\n",
       "      <td>4995022.828</td>\n",
       "      <td>4836175.188</td>\n",
       "      <td>0.027</td>\n",
       "    </tr>\n",
       "  </tbody>\n",
       "</table>\n",
       "</div>"
      ],
      "text/plain": [
       "      p  it diff                     ns                         error\n",
       "             max   mean   std       max        mean         std      \n",
       "0 0.200   1   48  7.134 6.694   3305564  384638.608  414931.701 0.865\n",
       "1 0.200   7   27  0.696 1.939  19667204 2351098.390 2381269.254 0.210\n",
       "2 0.200  15   18  0.530 1.598  41406710 5021068.397 5101869.770 0.175\n",
       "3 0.600   1   59  9.687 7.898   3357665  346049.533  365679.615 0.934\n",
       "4 0.600   7   15  0.307 1.133  17384532 2339655.480 2280199.303 0.118\n",
       "5 0.600  15    9  0.097 0.562  34233385 5009071.496 4885519.631 0.047\n",
       "6 1.000   1   60 10.747 8.241   2743346  315578.335  333585.443 0.951\n",
       "7 1.000   7   13  0.227 0.952  15183992 2350323.404 2290930.016 0.093\n",
       "8 1.000  15    9  0.054 0.401  31964890 4995022.828 4836175.188 0.027"
      ]
     },
     "execution_count": 9,
     "metadata": {},
     "output_type": "execute_result"
    }
   ],
   "source": [
    "grasp_test = grasp[((grasp.p == 0.2) | (grasp.p == 0.6) | (grasp.p == 1))\n",
    "                    & ((grasp.it == 1) | (grasp.it == 7) | (grasp.it == 15))]\n",
    "\n",
    "grasp_test = grasp_test.drop(n,1).drop(m,1)\n",
    "graspCopy = grasp_test.copy()\n",
    "graspCopy.columns = [it,p,'dif',ns]\n",
    "\n",
    "grasp_test = grasp_test.groupby([p,it]).agg(['max', 'mean', np.std]).reset_index()\n",
    "grasp_test = grasp_test.assign(error=1)\n",
    "\n",
    "for ps in [0.2,0.6,1]:\n",
    "    for its in [1,7,15]:\n",
    "        count, _ = graspCopy[(graspCopy.p == ps) & (graspCopy.it == its)].shape\n",
    "        errcount, _ = graspCopy[(graspCopy.p == ps) & (graspCopy.it == its) & (graspCopy.dif > 0)].shape\n",
    "        grasp_test.loc[(grasp_test.p == ps) & (grasp_test.it == its), 'error'] = errcount/count\n",
    "grasp_test"
   ]
  },
  {
   "cell_type": "code",
   "execution_count": 13,
   "metadata": {},
   "outputs": [
    {
     "data": {
      "image/png": "[encoded data removed]",
      "text/plain": [
       "<matplotlib.figure.Figure at 0x7ff08ea346d8>"
      ]
     },
     "metadata": {},
     "output_type": "display_data"
    },
    {
     "name": "stdout",
     "output_type": "stream",
     "text": [
      "Porcentaje de error: 1.04%\n",
      "56\n"
     ]
    },
    {
     "data": {
      "text/html": [
       "<div>\n",
       "<style>\n",
       "    .dataframe thead tr:only-child th {\n",
       "        text-align: right;\n",
       "    }\n",
       "\n",
       "    .dataframe thead th {\n",
       "        text-align: left;\n",
       "    }\n",
       "\n",
       "    .dataframe tbody tr th {\n",
       "        vertical-align: top;\n",
       "    }\n",
       "</style>\n",
       "<table border=\"1\" class=\"dataframe\">\n",
       "  <thead>\n",
       "    <tr style=\"text-align: right;\">\n",
       "      <th></th>\n",
       "      <th>n</th>\n",
       "      <th>m</th>\n",
       "      <th>it</th>\n",
       "      <th>p</th>\n",
       "      <th>diff</th>\n",
       "      <th>ns</th>\n",
       "    </tr>\n",
       "  </thead>\n",
       "  <tbody>\n",
       "    <tr>\n",
       "      <th>max</th>\n",
       "      <td>40.000</td>\n",
       "      <td>390.000</td>\n",
       "      <td>50.000</td>\n",
       "      <td>0.600</td>\n",
       "      <td>6.000</td>\n",
       "      <td>99235601.000</td>\n",
       "    </tr>\n",
       "    <tr>\n",
       "      <th>mean</th>\n",
       "      <td>30.450</td>\n",
       "      <td>119.550</td>\n",
       "      <td>50.000</td>\n",
       "      <td>0.600</td>\n",
       "      <td>0.018</td>\n",
       "      <td>15165859.114</td>\n",
       "    </tr>\n",
       "    <tr>\n",
       "      <th>std</th>\n",
       "      <td>7.790</td>\n",
       "      <td>92.073</td>\n",
       "      <td>0.000</td>\n",
       "      <td>0.000</td>\n",
       "      <td>0.213</td>\n",
       "      <td>14519655.846</td>\n",
       "    </tr>\n",
       "  </tbody>\n",
       "</table>\n",
       "</div>"
      ],
      "text/plain": [
       "          n       m     it     p  diff           ns\n",
       "max  40.000 390.000 50.000 0.600 6.000 99235601.000\n",
       "mean 30.450 119.550 50.000 0.600 0.018 15165859.114\n",
       "std   7.790  92.073  0.000 0.000 0.213 14519655.846"
      ]
     },
     "execution_count": 13,
     "metadata": {},
     "output_type": "execute_result"
    }
   ],
   "source": [
    "grasp50 = pd.read_csv('accuracy-grasp50.csv')\n",
    "grasp50 = grasp50.groupby([n,m,it,p]).min().reset_index()\n",
    "\n",
    "g = sns.countplot(x=diff, data=grasp50)\n",
    "g.set_xlabel(calidad)\n",
    "g.set_ylabel(\"Cantidad de tests\")\n",
    "plt.show()\n",
    "\n",
    "grasp_count = grasp50.groupby([diff])[n].agg(['count']).reset_index()\n",
    "grasp_sum = grasp_count['count'].agg(['sum']).get(0)\n",
    "\n",
    "percent = (grasp_sum - grasp_count['count'][0])/grasp_sum\n",
    "print(error_rate.format(percent*100))\n",
    "print(grasp_sum - grasp_count['count'][0])\n",
    "\n",
    "grasp50.agg(['max', 'mean', np.std])"
   ]
  },
  {
   "cell_type": "code",
   "execution_count": null,
   "metadata": {
    "collapsed": true
   },
   "outputs": [],
   "source": []
  }
 ],
 "metadata": {
  "kernelspec": {
   "display_name": "Python 3",
   "language": "python",
   "name": "python3"
  },
  "language_info": {
   "codemirror_mode": {
    "name": "ipython",
    "version": 3
   },
   "file_extension": ".py",
   "mimetype": "text/x-python",
   "name": "python",
   "nbconvert_exporter": "python",
   "pygments_lexer": "ipython3",
   "version": "3.5.3"
  }
 },
 "nbformat": 4,
 "nbformat_minor": 2
}
